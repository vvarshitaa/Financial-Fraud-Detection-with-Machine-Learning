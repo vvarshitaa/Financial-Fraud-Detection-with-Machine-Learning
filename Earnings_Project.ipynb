{
 "cells": [
  {
   "cell_type": "code",
   "execution_count": 19,
   "id": "1912df95",
   "metadata": {},
   "outputs": [
    {
     "data": {
      "text/html": [
       "<div>\n",
       "<style scoped>\n",
       "    .dataframe tbody tr th:only-of-type {\n",
       "        vertical-align: middle;\n",
       "    }\n",
       "\n",
       "    .dataframe tbody tr th {\n",
       "        vertical-align: top;\n",
       "    }\n",
       "\n",
       "    .dataframe thead th {\n",
       "        text-align: right;\n",
       "    }\n",
       "</style>\n",
       "<table border=\"1\" class=\"dataframe\">\n",
       "  <thead>\n",
       "    <tr style=\"text-align: right;\">\n",
       "      <th></th>\n",
       "      <th>Company Name</th>\n",
       "      <th>Year Ending</th>\n",
       "      <th>DSRI</th>\n",
       "      <th>GMI</th>\n",
       "      <th>AQI</th>\n",
       "      <th>SGI</th>\n",
       "      <th>DEPI</th>\n",
       "      <th>SGAI</th>\n",
       "      <th>ACCR</th>\n",
       "      <th>LEVI</th>\n",
       "      <th>MANIPULATOR</th>\n",
       "    </tr>\n",
       "  </thead>\n",
       "  <tbody>\n",
       "    <tr>\n",
       "      <th>0</th>\n",
       "      <td>1</td>\n",
       "      <td>3/31/2014</td>\n",
       "      <td>1.624742</td>\n",
       "      <td>1.128927</td>\n",
       "      <td>7.185053</td>\n",
       "      <td>0.366211</td>\n",
       "      <td>1.381519</td>\n",
       "      <td>1.624145</td>\n",
       "      <td>-0.166809</td>\n",
       "      <td>1.161082</td>\n",
       "      <td>1</td>\n",
       "    </tr>\n",
       "    <tr>\n",
       "      <th>1</th>\n",
       "      <td>2</td>\n",
       "      <td>3/31/2009</td>\n",
       "      <td>1.000000</td>\n",
       "      <td>1.606492</td>\n",
       "      <td>1.004988</td>\n",
       "      <td>13.081433</td>\n",
       "      <td>0.400000</td>\n",
       "      <td>5.198207</td>\n",
       "      <td>0.060475</td>\n",
       "      <td>0.986732</td>\n",
       "      <td>1</td>\n",
       "    </tr>\n",
       "    <tr>\n",
       "      <th>2</th>\n",
       "      <td>3</td>\n",
       "      <td>3/31/2008</td>\n",
       "      <td>1.000000</td>\n",
       "      <td>1.015607</td>\n",
       "      <td>1.241389</td>\n",
       "      <td>1.475018</td>\n",
       "      <td>1.169353</td>\n",
       "      <td>0.647671</td>\n",
       "      <td>0.036732</td>\n",
       "      <td>1.264305</td>\n",
       "      <td>1</td>\n",
       "    </tr>\n",
       "    <tr>\n",
       "      <th>3</th>\n",
       "      <td>4</td>\n",
       "      <td>3/31/2014</td>\n",
       "      <td>1.486239</td>\n",
       "      <td>1.000000</td>\n",
       "      <td>0.465535</td>\n",
       "      <td>0.672840</td>\n",
       "      <td>2.000000</td>\n",
       "      <td>0.092890</td>\n",
       "      <td>0.273434</td>\n",
       "      <td>0.680975</td>\n",
       "      <td>1</td>\n",
       "    </tr>\n",
       "    <tr>\n",
       "      <th>4</th>\n",
       "      <td>5</td>\n",
       "      <td>3/31/2010</td>\n",
       "      <td>1.000000</td>\n",
       "      <td>1.369038</td>\n",
       "      <td>0.637112</td>\n",
       "      <td>0.861346</td>\n",
       "      <td>1.454676</td>\n",
       "      <td>1.741460</td>\n",
       "      <td>0.123048</td>\n",
       "      <td>0.939047</td>\n",
       "      <td>1</td>\n",
       "    </tr>\n",
       "  </tbody>\n",
       "</table>\n",
       "</div>"
      ],
      "text/plain": [
       "   Company Name Year Ending      DSRI       GMI       AQI        SGI  \\\n",
       "0             1   3/31/2014  1.624742  1.128927  7.185053   0.366211   \n",
       "1             2   3/31/2009  1.000000  1.606492  1.004988  13.081433   \n",
       "2             3   3/31/2008  1.000000  1.015607  1.241389   1.475018   \n",
       "3             4   3/31/2014  1.486239  1.000000  0.465535   0.672840   \n",
       "4             5   3/31/2010  1.000000  1.369038  0.637112   0.861346   \n",
       "\n",
       "       DEPI      SGAI      ACCR      LEVI  MANIPULATOR  \n",
       "0  1.381519  1.624145 -0.166809  1.161082            1  \n",
       "1  0.400000  5.198207  0.060475  0.986732            1  \n",
       "2  1.169353  0.647671  0.036732  1.264305            1  \n",
       "3  2.000000  0.092890  0.273434  0.680975            1  \n",
       "4  1.454676  1.741460  0.123048  0.939047            1  "
      ]
     },
     "execution_count": 19,
     "metadata": {},
     "output_type": "execute_result"
    }
   ],
   "source": [
    "import pandas as pd\n",
    "\n",
    "data = pd.read_csv(\"Earnings Manipulation 220.csv\")\n",
    "\n",
    "data.head()\n"
   ]
  },
  {
   "cell_type": "code",
   "execution_count": 20,
   "id": "40777297",
   "metadata": {},
   "outputs": [
    {
     "name": "stdout",
     "output_type": "stream",
     "text": [
      "(220, 11)\n"
     ]
    }
   ],
   "source": [
    "print(data.shape)\n"
   ]
  },
  {
   "cell_type": "code",
   "execution_count": 21,
   "id": "4ec36fa9",
   "metadata": {},
   "outputs": [
    {
     "name": "stdout",
     "output_type": "stream",
     "text": [
      "<class 'pandas.core.frame.DataFrame'>\n",
      "RangeIndex: 220 entries, 0 to 219\n",
      "Data columns (total 11 columns):\n",
      " #   Column        Non-Null Count  Dtype  \n",
      "---  ------        --------------  -----  \n",
      " 0   Company Name  220 non-null    int64  \n",
      " 1   Year Ending   220 non-null    object \n",
      " 2   DSRI          220 non-null    float64\n",
      " 3   GMI           220 non-null    float64\n",
      " 4   AQI           220 non-null    float64\n",
      " 5   SGI           220 non-null    float64\n",
      " 6   DEPI          220 non-null    float64\n",
      " 7   SGAI          220 non-null    float64\n",
      " 8   ACCR          220 non-null    float64\n",
      " 9   LEVI          220 non-null    float64\n",
      " 10  MANIPULATOR   220 non-null    int64  \n",
      "dtypes: float64(8), int64(2), object(1)\n",
      "memory usage: 19.0+ KB\n",
      "None\n"
     ]
    }
   ],
   "source": [
    "print(data.info())"
   ]
  },
  {
   "cell_type": "code",
   "execution_count": 22,
   "id": "9c289e57",
   "metadata": {},
   "outputs": [
    {
     "data": {
      "text/plain": [
       "8"
      ]
     },
     "execution_count": 22,
     "metadata": {},
     "output_type": "execute_result"
    }
   ],
   "source": [
    "from sklearn.model_selection import train_test_split\n",
    "\n",
    "\n",
    "X = data.drop(columns=['Company Name', 'Year Ending', 'MANIPULATOR'])\n",
    "y = data['MANIPULATOR']\n",
    "\n",
    "\n",
    "X_train, X_test, y_train, y_test = train_test_split(X, y, test_size=0.2, random_state=42, stratify=y)\n",
    "\n",
    "\n",
    "positives_in_test = sum(y_test)\n",
    "\n",
    "positives_in_test\n"
   ]
  },
  {
   "cell_type": "code",
   "execution_count": 24,
   "id": "ab8eb06b",
   "metadata": {},
   "outputs": [
    {
     "data": {
      "text/plain": [
       "1    145\n",
       "0    145\n",
       "Name: MANIPULATOR, dtype: int64"
      ]
     },
     "execution_count": 24,
     "metadata": {},
     "output_type": "execute_result"
    }
   ],
   "source": [
    "from sklearn.utils import resample\n",
    "\n",
    "# Combine the training data back together\n",
    "train_data = pd.concat([X_train, y_train], axis=1)\n",
    "\n",
    "# Separate the majority and minority classes\n",
    "majority = train_data[train_data.MANIPULATOR == 0]\n",
    "minority = train_data[train_data.MANIPULATOR == 1]\n",
    "\n",
    "# Upsample the minority class\n",
    "minority_upsampled = resample(minority, \n",
    "                              replace=True,     # sample with replacement\n",
    "                              n_samples=len(majority),    # to match majority class\n",
    "                              random_state=42) # reproducible results\n",
    "\n",
    "# Combine majority and upsampled minority\n",
    "upsampled = pd.concat([majority, minority_upsampled])\n",
    "\n",
    "# Separate features and target\n",
    "X_train_balanced = upsampled.drop(columns=['MANIPULATOR'])\n",
    "y_train_balanced = upsampled['MANIPULATOR']\n",
    "\n",
    "# Check the distribution\n",
    "y_train_balanced.value_counts()\n"
   ]
  },
  {
   "cell_type": "markdown",
   "id": "c597f120",
   "metadata": {},
   "source": [
    "# Building and Evaluating Models"
   ]
  },
  {
   "cell_type": "code",
   "execution_count": 25,
   "id": "b168302f",
   "metadata": {
    "scrolled": true
   },
   "outputs": [
    {
     "name": "stdout",
     "output_type": "stream",
     "text": [
      "Naïve Bayes Model Performance:\n",
      "              precision    recall  f1-score   support\n",
      "\n",
      "           0       0.87      0.94      0.91        36\n",
      "           1       0.60      0.38      0.46         8\n",
      "\n",
      "    accuracy                           0.84        44\n",
      "   macro avg       0.74      0.66      0.68        44\n",
      "weighted avg       0.82      0.84      0.83        44\n",
      "\n"
     ]
    }
   ],
   "source": [
    "from sklearn.naive_bayes import GaussianNB\n",
    "from sklearn.model_selection import GridSearchCV\n",
    "from sklearn.metrics import classification_report\n",
    "\n",
    "# Define the model\n",
    "nb = GaussianNB()\n",
    "\n",
    "# Define the parameter grid (if applicable)\n",
    "param_grid_nb = {}\n",
    "\n",
    "# Set up GridSearchCV\n",
    "grid_nb = GridSearchCV(estimator=nb, param_grid=param_grid_nb, cv=5, scoring='f1')\n",
    "\n",
    "# Train the model\n",
    "grid_nb.fit(X_train_balanced, y_train_balanced)\n",
    "\n",
    "# Predict on test data\n",
    "y_pred_nb = grid_nb.predict(X_test)\n",
    "\n",
    "# Evaluate the model\n",
    "print(\"Naïve Bayes Model Performance:\")\n",
    "print(classification_report(y_test, y_pred_nb))\n"
   ]
  },
  {
   "cell_type": "code",
   "execution_count": 26,
   "id": "ccb40cd4",
   "metadata": {
    "scrolled": true
   },
   "outputs": [
    {
     "name": "stdout",
     "output_type": "stream",
     "text": [
      "KNN Model Performance:\n",
      "              precision    recall  f1-score   support\n",
      "\n",
      "           0       0.86      0.89      0.88        36\n",
      "           1       0.43      0.38      0.40         8\n",
      "\n",
      "    accuracy                           0.80        44\n",
      "   macro avg       0.65      0.63      0.64        44\n",
      "weighted avg       0.79      0.80      0.79        44\n",
      "\n",
      "SVM Model Performance:\n",
      "              precision    recall  f1-score   support\n",
      "\n",
      "           0       0.94      0.94      0.94        36\n",
      "           1       0.75      0.75      0.75         8\n",
      "\n",
      "    accuracy                           0.91        44\n",
      "   macro avg       0.85      0.85      0.85        44\n",
      "weighted avg       0.91      0.91      0.91        44\n",
      "\n",
      "Logistic Regression Model Performance:\n",
      "              precision    recall  f1-score   support\n",
      "\n",
      "           0       0.92      0.94      0.93        36\n",
      "           1       0.71      0.62      0.67         8\n",
      "\n",
      "    accuracy                           0.89        44\n",
      "   macro avg       0.82      0.78      0.80        44\n",
      "weighted avg       0.88      0.89      0.88        44\n",
      "\n",
      "Random Forest Model Performance:\n",
      "              precision    recall  f1-score   support\n",
      "\n",
      "           0       0.92      0.92      0.92        36\n",
      "           1       0.62      0.62      0.62         8\n",
      "\n",
      "    accuracy                           0.86        44\n",
      "   macro avg       0.77      0.77      0.77        44\n",
      "weighted avg       0.86      0.86      0.86        44\n",
      "\n"
     ]
    }
   ],
   "source": [
    "from sklearn.neighbors import KNeighborsClassifier\n",
    "from sklearn.svm import SVC\n",
    "from sklearn.linear_model import LogisticRegression\n",
    "from sklearn.ensemble import RandomForestClassifier\n",
    "\n",
    "# Define the models\n",
    "models = {\n",
    "    'KNN': KNeighborsClassifier(),\n",
    "    'SVM': SVC(),\n",
    "    'Logistic Regression': LogisticRegression(),\n",
    "    'Random Forest': RandomForestClassifier()\n",
    "}\n",
    "\n",
    "# Define parameter grids for each model\n",
    "param_grids = {\n",
    "    'KNN': {'n_neighbors': [3, 5, 7, 9]},\n",
    "    'SVM': {'C': [0.1, 1, 10], 'kernel': ['linear', 'rbf']},\n",
    "    'Logistic Regression': {'C': [0.1, 1, 10]},\n",
    "    'Random Forest': {'n_estimators': [50, 100, 200], 'max_depth': [None, 10, 20]}\n",
    "}\n",
    "\n",
    "# Grid search and evaluation for each model\n",
    "for model_name, model in models.items():\n",
    "    grid = GridSearchCV(estimator=model, param_grid=param_grids[model_name], cv=5, scoring='f1')\n",
    "    grid.fit(X_train_balanced, y_train_balanced)\n",
    "    y_pred = grid.predict(X_test)\n",
    "    print(f\"{model_name} Model Performance:\")\n",
    "    print(classification_report(y_test, y_pred))\n"
   ]
  },
  {
   "cell_type": "code",
   "execution_count": 29,
   "id": "f6b7d29f",
   "metadata": {},
   "outputs": [
    {
     "name": "stdout",
     "output_type": "stream",
     "text": [
      "Feature ranking:\n",
      "1. feature LEVI (0.17029310072757262)\n",
      "2. feature SGI (0.1649950626575841)\n",
      "3. feature DSRI (0.15038026638905277)\n",
      "4. feature ACCR (0.14807958779608402)\n",
      "5. feature SGAI (0.133119833300162)\n",
      "6. feature GMI (0.0925550511397613)\n",
      "7. feature AQI (0.07978847222402681)\n",
      "8. feature DEPI (0.06078862576575642)\n"
     ]
    },
    {
     "data": {
      "image/png": "[encoded data removed]",
      "text/plain": [
       "<Figure size 720x432 with 1 Axes>"
      ]
     },
     "metadata": {
      "needs_background": "light"
     },
     "output_type": "display_data"
    }
   ],
   "source": [
    "#Using RandomForest for feature importance:\n",
    "import numpy as np\n",
    "\n",
    "# Train the Random Forest model on the balanced dataset\n",
    "rf = RandomForestClassifier(n_estimators=100, random_state=42)\n",
    "rf.fit(X_train_balanced, y_train_balanced)\n",
    "\n",
    "# Get feature importances\n",
    "importances = rf.feature_importances_\n",
    "features = X_train_balanced.columns\n",
    "\n",
    "# Sort feature importances in descending order\n",
    "indices = np.argsort(importances)[::-1]\n",
    "\n",
    "# Print feature ranking\n",
    "print(\"Feature ranking:\")\n",
    "\n",
    "for f in range(X_train_balanced.shape[1]):\n",
    "    print(f\"{f + 1}. feature {features[indices[f]]} ({importances[indices[f]]})\")\n",
    "\n",
    "# Plot the feature importances\n",
    "plt.figure(figsize=(10, 6))\n",
    "plt.title(\"Feature importances\")\n",
    "plt.bar(range(X_train_balanced.shape[1]), importances[indices], align=\"center\")\n",
    "plt.xticks(range(X_train_balanced.shape[1]), [features[i] for i in indices], rotation=90)\n",
    "plt.xlim([-1, X_train_balanced.shape[1]])\n",
    "plt.show()\n"
   ]
  },
  {
   "cell_type": "code",
   "execution_count": 30,
   "id": "b60b1a1f",
   "metadata": {},
   "outputs": [
    {
     "data": {
      "text/plain": [
       "1    31\n",
       "0    31\n",
       "Name: MANIPULATOR, dtype: int64"
      ]
     },
     "execution_count": 30,
     "metadata": {},
     "output_type": "execute_result"
    }
   ],
   "source": [
    "#Downsampling \n",
    "\n",
    "# Separate majority and minority classes\n",
    "majority_down = train_data[train_data.MANIPULATOR == 0]\n",
    "minority_down = train_data[train_data.MANIPULATOR == 1]\n",
    "\n",
    "# Downsample the majority class\n",
    "majority_downsampled = resample(majority_down, \n",
    "                                replace=False,    # sample without replacement\n",
    "                                n_samples=len(minority_down),  # to match minority class\n",
    "                                random_state=42)  # reproducible results\n",
    "\n",
    "# Combine downsampled majority and minority\n",
    "downsampled = pd.concat([majority_downsampled, minority_down])\n",
    "\n",
    "# Separate features and target\n",
    "X_train_downsampled = downsampled.drop(columns=['MANIPULATOR'])\n",
    "y_train_downsampled = downsampled['MANIPULATOR']\n",
    "\n",
    "# Check the distribution\n",
    "y_train_downsampled.value_counts()\n"
   ]
  },
  {
   "cell_type": "code",
   "execution_count": 31,
   "id": "08ce6e86",
   "metadata": {},
   "outputs": [
    {
     "name": "stdout",
     "output_type": "stream",
     "text": [
      "Naïve Bayes Model Performance (Downsampled):\n",
      "              precision    recall  f1-score   support\n",
      "\n",
      "           0       0.87      0.92      0.89        36\n",
      "           1       0.50      0.38      0.43         8\n",
      "\n",
      "    accuracy                           0.82        44\n",
      "   macro avg       0.68      0.65      0.66        44\n",
      "weighted avg       0.80      0.82      0.81        44\n",
      "\n",
      "KNN Model Performance (Downsampled):\n",
      "              precision    recall  f1-score   support\n",
      "\n",
      "           0       0.86      0.86      0.86        36\n",
      "           1       0.38      0.38      0.38         8\n",
      "\n",
      "    accuracy                           0.77        44\n",
      "   macro avg       0.62      0.62      0.62        44\n",
      "weighted avg       0.77      0.77      0.77        44\n",
      "\n",
      "SVM Model Performance (Downsampled):\n",
      "              precision    recall  f1-score   support\n",
      "\n",
      "           0       0.92      0.97      0.95        36\n",
      "           1       0.83      0.62      0.71         8\n",
      "\n",
      "    accuracy                           0.91        44\n",
      "   macro avg       0.88      0.80      0.83        44\n",
      "weighted avg       0.91      0.91      0.90        44\n",
      "\n",
      "Logistic Regression Model Performance (Downsampled):\n",
      "              precision    recall  f1-score   support\n",
      "\n",
      "           0       0.92      0.94      0.93        36\n",
      "           1       0.71      0.62      0.67         8\n",
      "\n",
      "    accuracy                           0.89        44\n",
      "   macro avg       0.82      0.78      0.80        44\n",
      "weighted avg       0.88      0.89      0.88        44\n",
      "\n",
      "Random Forest Model Performance (Downsampled):\n",
      "              precision    recall  f1-score   support\n",
      "\n",
      "           0       0.94      0.86      0.90        36\n",
      "           1       0.55      0.75      0.63         8\n",
      "\n",
      "    accuracy                           0.84        44\n",
      "   macro avg       0.74      0.81      0.77        44\n",
      "weighted avg       0.87      0.84      0.85        44\n",
      "\n"
     ]
    }
   ],
   "source": [
    "#Compare Upsampling and Downsampling Techniques\n",
    "\n",
    "# Define the models again for downsampled data\n",
    "models = {\n",
    "    'Naïve Bayes': GaussianNB(),\n",
    "    'KNN': KNeighborsClassifier(),\n",
    "    'SVM': SVC(),\n",
    "    'Logistic Regression': LogisticRegression(),\n",
    "    'Random Forest': RandomForestClassifier()\n",
    "}\n",
    "\n",
    "# Define parameter grids for each model again\n",
    "param_grids = {\n",
    "    'KNN': {'n_neighbors': [3, 5, 7, 9]},\n",
    "    'SVM': {'C': [0.1, 1, 10], 'kernel': ['linear', 'rbf']},\n",
    "    'Logistic Regression': {'C': [0.1, 1, 10]},\n",
    "    'Random Forest': {'n_estimators': [50, 100, 200], 'max_depth': [None, 10, 20]}\n",
    "}\n",
    "\n",
    "# Grid search and evaluation for each model on downsampled data\n",
    "for model_name, model in models.items():\n",
    "    grid = GridSearchCV(estimator=model, param_grid=param_grids.get(model_name, {}), cv=5, scoring='f1')\n",
    "    grid.fit(X_train_downsampled, y_train_downsampled)\n",
    "    y_pred = grid.predict(X_test)\n",
    "    print(f\"{model_name} Model Performance (Downsampled):\")\n",
    "    print(classification_report(y_test, y_pred))\n"
   ]
  },
  {
   "cell_type": "code",
   "execution_count": 32,
   "id": "585a9926",
   "metadata": {},
   "outputs": [
    {
     "name": "stdout",
     "output_type": "stream",
     "text": [
      "The best model based on downsampling results is SVM with the highest F1-score and accuracy.\n"
     ]
    }
   ],
   "source": [
    "# Reporting the best model\n",
    "best_model = 'SVM'\n",
    "print(f\"The best model based on downsampling results is {best_model} with the highest F1-score and accuracy.\")\n"
   ]
  },
  {
   "cell_type": "code",
   "execution_count": null,
   "id": "ac038d08",
   "metadata": {},
   "outputs": [],
   "source": [
    "##Consider from here \n",
    "\n"
   ]
  }
 ],
 "metadata": {
  "kernelspec": {
   "display_name": "Python 3 (ipykernel)",
   "language": "python",
   "name": "python3"
  },
  "language_info": {
   "codemirror_mode": {
    "name": "ipython",
    "version": 3
   },
   "file_extension": ".py",
   "mimetype": "text/x-python",
   "name": "python",
   "nbconvert_exporter": "python",
   "pygments_lexer": "ipython3",
   "version": "3.12.4"
  }
 },
 "nbformat": 4,
 "nbformat_minor": 5
}
